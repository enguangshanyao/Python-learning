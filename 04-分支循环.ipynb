{
 "cells": [
  {
   "cell_type": "markdown",
   "metadata": {},
   "source": [
    "# 分支语句 \n",
    "- if语句 \n",
    "- elif 条件语句\n",
    "-     语句1\n",
    "-     语句2\n",
    "-     ....\n",
    "- else:\n",
    "-     语句1\n",
    "-     语句2\n",
    "-     ....\n",
    "    \n",
    "- if语句可以嵌套，但不推荐\n",
    "\n",
    "- python里没有switch-case语句\n",
    "\n",
    "\n",
    "\n",
    "# 循环语句\n",
    "- for 循环\n",
    "      \n",
    "      for 变量 in 序列：\n",
    "          语句1\n",
    "          语句2\n",
    "          ....\n",
    "          \n",
    "- 列表： ['zhangsan', 'lisi']\n",
    "\n"
   ]
  },
  {
   "cell_type": "code",
   "execution_count": 6,
   "metadata": {},
   "outputs": [
    {
     "name": "stdout",
     "output_type": "stream",
     "text": [
      "zhangsan\n",
      "同学我们不约，不约，同学请自重\n",
      "lisi\n",
      "同学我们不约，不约，同学请自重\n",
      "zhenyan\n",
      "我的最爱zhenyan出现了\n",
      "别的都不是我的学生，不会再爱了\n"
     ]
    }
   ],
   "source": [
    "for name in ['zhangsan', 'lisi','zhenyan']:\n",
    "    print(name)\n",
    "    if name == \"zhenyan\":\n",
    "        print(\"我的最爱{0}出现了\".format(name))\n",
    "    else:\n",
    "        print(\"同学我们不约，不约，同学请自重\")\n",
    "        \n",
    "else:\n",
    "    print(\"别的都不是我的学生，不会再爱了\")"
   ]
  },
  {
   "cell_type": "code",
   "execution_count": null,
   "metadata": {},
   "outputs": [],
   "source": []
  },
  {
   "cell_type": "markdown",
   "metadata": {},
   "source": [
    "## range介绍\n",
    "- 生成一个数字序列\n",
    "- 具体范围可以设定\n",
    "\n",
    "- 一般在python中，如果表示数字范围的两个数，一般是包含左边数字，不包含右边数字\n",
    "- randint是特例，左右都包含\n",
    "- range函数在2.x和3.x中有严重区别"
   ]
  },
  {
   "cell_type": "markdown",
   "metadata": {},
   "source": [
    "# for-else\n",
    "- 当for循环结束的时候，会执行else语句，可选。"
   ]
  },
  {
   "cell_type": "markdown",
   "metadata": {},
   "source": [
    "## 循环之break，continue，pass\n",
    "- break：无条件结束整个循环，简称循环猝死\n",
    "- continue：无条件结束本次循环，从新进入下一轮循环\n",
    "- pass；表示略过"
   ]
  },
  {
   "cell_type": "code",
   "execution_count": 11,
   "metadata": {},
   "outputs": [
    {
     "name": "stdout",
     "output_type": "stream",
     "text": [
      "1\n",
      "2\n",
      "3\n",
      "4\n",
      "5\n",
      "6\n",
      "我找到了\n"
     ]
    }
   ],
   "source": [
    "# 在数字1-10中，寻找数字7，一旦找到，打印出来，其他什么都不做\n",
    "# for循环中的变量表示，一般用i，k，m，n或者indx，idx，item之类\n",
    "# python中，如果循环变量名称不重要，可以用下划线（—）代替\n",
    "for i in range(1,11):\n",
    "    if i == 7:\n",
    "        print(\"我找到了\")\n",
    "        break\n",
    "    else:\n",
    "        print(i)"
   ]
  },
  {
   "cell_type": "code",
   "execution_count": 12,
   "metadata": {},
   "outputs": [
    {
     "name": "stdout",
     "output_type": "stream",
     "text": [
      "2是偶数\n",
      "4是偶数\n",
      "6是偶数\n",
      "8是偶数\n",
      "10是偶数\n"
     ]
    }
   ],
   "source": [
    "# 在数字1-10中，寻找所有偶数，一旦找到，打印出来\n",
    "\n",
    "for i in range(1,11):\n",
    "    if i%2 == 0:\n",
    "        print(\"{0}是偶数\".format(i))"
   ]
  },
  {
   "cell_type": "code",
   "execution_count": 13,
   "metadata": {},
   "outputs": [
    {
     "name": "stdout",
     "output_type": "stream",
     "text": [
      "2是偶数\n",
      "4是偶数\n",
      "6是偶数\n",
      "8是偶数\n",
      "10是偶数\n"
     ]
    }
   ],
   "source": [
    "# 在数字1-10中，寻找所有偶数，一旦找到，打印出来\n",
    "# 本例完整显示continue的用法和作用\n",
    "for i in range(1,11):\n",
    "    if i%2 == 1:\n",
    "        continue\n",
    "        \n",
    "    print(\"{0}是偶数\".format(i))"
   ]
  },
  {
   "cell_type": "code",
   "execution_count": 14,
   "metadata": {},
   "outputs": [],
   "source": [
    "# pass例子，一般用于占位\n",
    "# pass没有跳过"
   ]
  },
  {
   "cell_type": "code",
   "execution_count": 21,
   "metadata": {},
   "outputs": [
    {
     "name": "stdout",
     "output_type": "stream",
     "text": [
      "4\n",
      "1 2 2 2\n"
     ]
    }
   ],
   "source": [
    "n = input()\n",
    "b = 0\n",
    "m = 0\n",
    "a = input()\n",
    "for cont in a:\n",
    "    b = cont\n",
    "#    print('cc',cont)\n",
    "    m += 1\n",
    "    for count in a[m:int(n)+1]:\n",
    "\n",
    "        if b != count:\n",
    "#            print(b , count)\n",
    "            break\n",
    "   \n",
    "        else:\n",
    "#            c = b\n",
    "            print(b)\n",
    "    \n",
    "              "
   ]
  },
  {
   "cell_type": "code",
   "execution_count": null,
   "metadata": {},
   "outputs": [],
   "source": [
    "n = input()\n",
    "b = 0\n",
    "a = input()\n",
    "for cont in a:\n",
    "    b = cont\n",
    "    for count in a[1:n+1]:\n",
    "        if b == count:\n",
    "            break\n",
    "        else:\n",
    "            c = b\n",
    "            print(c)"
   ]
  },
  {
   "cell_type": "code",
   "execution_count": null,
   "metadata": {},
   "outputs": [],
   "source": [
    "n = input()"
   ]
  },
  {
   "cell_type": "code",
   "execution_count": null,
   "metadata": {},
   "outputs": [],
   "source": []
  }
 ],
 "metadata": {
  "kernelspec": {
   "display_name": "Python 3",
   "language": "python",
   "name": "python3"
  },
  "language_info": {
   "codemirror_mode": {
    "name": "ipython",
    "version": 3
   },
   "file_extension": ".py",
   "mimetype": "text/x-python",
   "name": "python",
   "nbconvert_exporter": "python",
   "pygments_lexer": "ipython3",
   "version": "3.6.4"
  }
 },
 "nbformat": 4,
 "nbformat_minor": 2
}
