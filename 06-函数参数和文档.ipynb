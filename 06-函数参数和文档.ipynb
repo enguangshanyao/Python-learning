{
 "cells": [
  {
   "cell_type": "markdown",
   "metadata": {},
   "source": [
    "# 四类参数\n",
    "- 普通参数\n",
    "- 默认参数\n",
    "- 关键字参数\n",
    "- 收集参数\n",
    "\n",
    "## 关键字参数\n",
    "- 语法\n",
    "            def func(p1=v1,p2=v2,....):\n",
    "                func_body\n",
    "                \n",
    "                \n",
    "            调用函数:\n",
    "            func(p1=value1,p2=value2,....)\n",
    "            \n",
    "            \n",
    "            \n",
    "## 收集参数\n",
    "- 把没有位置，不能和定义时的参数位置相对应的参数，放入以恶搞特定的数据结构中\n",
    "- 语法\n",
    "            def func(*args):\n",
    "                func_body\n",
    "                按照list使用方式访问args，得到传入的参数\n",
    "                \n",
    "            调用：\n",
    "            func(p1, p2, p3,......)\n",
    "- 参数名args不是必须这么写，但是，我们推荐直接用args，约定俗成\n",
    "- 参数名钱需要有星号(*)\n",
    "- 收集参数可以和其他参数共存\n",
    "                \n",
    "            "
   ]
  },
  {
   "cell_type": "code",
   "execution_count": 2,
   "metadata": {},
   "outputs": [
    {
     "name": "stdout",
     "output_type": "stream",
     "text": [
      "hello, 大家好，我自我介绍一下，简单说两句：\n",
      "<class 'tuple'>\n",
      "fengyuan\n",
      "18\n",
      "杭州余杭区\n",
      "zhenyan\n",
      "married\n",
      "hello, 大家好，我自我介绍一下，简单说两句：\n",
      "<class 'tuple'>\n",
      "zhou da she\n"
     ]
    }
   ],
   "source": [
    "# 收集参数代码\n",
    "# 函数模拟一个学生进行自我介绍，但具体内容不清楚\n",
    "# args 把它看作一个list\n",
    "def stu(*args):\n",
    "    print(\"hello, 大家好，我自我介绍一下，简单说两句：\")\n",
    "    # type函数作用是检测变量的类型\n",
    "    print(type(args))\n",
    "    for item in args:\n",
    "        print(item)\n",
    "\n",
    "stu(\"fengyuan\", 18, \"杭州余杭区\", \"zhenyan\", \"married\")\n",
    "\n",
    "stu(\"zhou da she\")"
   ]
  },
  {
   "cell_type": "markdown",
   "metadata": {},
   "source": [
    "### 收集参数之关键字收集参数\n",
    "- 把关键字按字典格式存入收集参数\n",
    "- 语法：\n",
    "        def func(**kwargs)\n",
    "            func_body\n",
    "            \n",
    "        调用：\n",
    "        func(p1=v1, p2=v2, p3=v3,...)"
   ]
  },
  {
   "cell_type": "code",
   "execution_count": null,
   "metadata": {},
   "outputs": [],
   "source": []
  }
 ],
 "metadata": {
  "kernelspec": {
   "display_name": "Python 3",
   "language": "python",
   "name": "python3"
  },
  "language_info": {
   "codemirror_mode": {
    "name": "ipython",
    "version": 3
   },
   "file_extension": ".py",
   "mimetype": "text/x-python",
   "name": "python",
   "nbconvert_exporter": "python",
   "pygments_lexer": "ipython3",
   "version": "3.6.4"
  }
 },
 "nbformat": 4,
 "nbformat_minor": 2
}
