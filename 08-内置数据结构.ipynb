{
 "cells": [
  {
   "cell_type": "markdown",
   "metadata": {},
   "source": [
    "# 汉诺塔问题\n",
    "\n",
    "- 规则：\n",
    "    - 1/每次移动一个盘子\n",
    "    - 2/任何时候大盘子在上面\n",
    "- 方法：\n",
    "    - 1.n=1: 直接把A上的盘子移动到C上，A->C\n",
    "    - 2.n=2: \n",
    "        - A. 把小盘子从A放到B上， A->B\n",
    "        - B. 把小盘子从A放到C上， A->B\n",
    "        - C. 把小盘子从B放到C上， B->C\n",
    "    - 3.n=3:\n",
    "        - A. 把A上的两个盘子，通过C移动到B上去，调用递归实现\n",
    "        - B. 把A上剩下的一个最大的盘子移动到上去，A->C\n",
    "        - C. 把B上两个盘子，借助于A，挪到C上去，调用递归\n",
    "    - 4.n=n:\n",
    "        - A. 把A上的n-1个盘子，借助于C，移动到B上去，调用递归\n",
    "        - B. 把A上最大的盘子，也是唯一一个，移动到C上，A->C\n",
    "        - C. 把B上n-1个盘子，借助于A，移动到C上，调用递归\n",
    "       "
   ]
  },
  {
   "cell_type": "code",
   "execution_count": 2,
   "metadata": {},
   "outputs": [
    {
     "name": "stdout",
     "output_type": "stream",
     "text": [
      "A --> C\n"
     ]
    }
   ],
   "source": [
    "def hano(n, a, b, c):\n",
    "    '''\n",
    "    汉诺塔的递归实现\n",
    "    n：代表几个盘子\n",
    "    a: 代表第一个盘子\n",
    "    b: 代表第二个盘子\n",
    "    c: 代表第三个盘子\n",
    "    '''\n",
    "    if n == 1:\n",
    "        print(a, \"-->\", c)\n",
    "        return None\n",
    "    '''\n",
    "    if n == 2:\n",
    "        print(a, \"-->\", b)\n",
    "        print(a, \"-->\", c)\n",
    "        print(b, \"-->\", c)\n",
    "        return None\n",
    "    '''\n",
    "    #把n-1个盘子，从a塔借助于c塔，挪到b塔上去\n",
    "    hano(n-1, a, c, b)\n",
    "    print(a, \"-->\", c)\n",
    "    #把n-1个盘子，从b塔，借助于a塔，挪到c塔上去\n",
    "    hano(n-1, b, a, c)\n",
    "    \n",
    "a = \"A\"\n",
    "b = \"B\"\n",
    "c = \"C\"\n",
    "\n",
    "n = 1\n",
    "hano(n, a, b, c)\n",
    "    "
   ]
  },
  {
   "cell_type": "code",
   "execution_count": 3,
   "metadata": {},
   "outputs": [
    {
     "name": "stdout",
     "output_type": "stream",
     "text": [
      "A --> B\n",
      "A --> C\n",
      "B --> C\n"
     ]
    }
   ],
   "source": [
    "n = 2\n",
    "hano(n, a, b, c)"
   ]
  },
  {
   "cell_type": "code",
   "execution_count": 4,
   "metadata": {},
   "outputs": [
    {
     "name": "stdout",
     "output_type": "stream",
     "text": [
      "A --> C\n",
      "A --> B\n",
      "C --> B\n",
      "A --> C\n",
      "B --> A\n",
      "B --> C\n",
      "A --> C\n"
     ]
    }
   ],
   "source": [
    "n = 3\n",
    "hano(n, a, b, c)"
   ]
  },
  {
   "cell_type": "code",
   "execution_count": 5,
   "metadata": {},
   "outputs": [
    {
     "name": "stdout",
     "output_type": "stream",
     "text": [
      "A --> C\n",
      "A --> B\n",
      "C --> B\n",
      "A --> C\n",
      "B --> A\n",
      "B --> C\n",
      "A --> C\n",
      "A --> B\n",
      "C --> B\n",
      "C --> A\n",
      "B --> A\n",
      "C --> B\n",
      "A --> C\n",
      "A --> B\n",
      "C --> B\n",
      "A --> C\n",
      "B --> A\n",
      "B --> C\n",
      "A --> C\n",
      "B --> A\n",
      "C --> B\n",
      "C --> A\n",
      "B --> A\n",
      "B --> C\n",
      "A --> C\n",
      "A --> B\n",
      "C --> B\n",
      "A --> C\n",
      "B --> A\n",
      "B --> C\n",
      "A --> C\n"
     ]
    }
   ],
   "source": [
    "n = 5\n",
    "hano(n, a, b, c)"
   ]
  },
  {
   "cell_type": "markdown",
   "metadata": {},
   "source": [
    "# List（列表）\n",
    "- del：删除命令\n"
   ]
  },
  {
   "cell_type": "code",
   "execution_count": 6,
   "metadata": {},
   "outputs": [
    {
     "name": "stdout",
     "output_type": "stream",
     "text": [
      "[1, 2, 4, 5, 6]\n"
     ]
    }
   ],
   "source": [
    "# del 删除\n",
    "a = [1,2,3,4,5,6]\n",
    "del a[2]\n",
    "print(a)"
   ]
  },
  {
   "cell_type": "code",
   "execution_count": 7,
   "metadata": {},
   "outputs": [
    {
     "name": "stdout",
     "output_type": "stream",
     "text": [
      "1893778265992\n",
      "1893778265992\n",
      "[1, 2, 4, 5, 6]\n"
     ]
    }
   ],
   "source": [
    "# del 删除\n",
    "# 如果使用del之后，id的值不一样，则说明删除生成了一个新的列表\n",
    "a = [1,2,3,4,5,6]\n",
    "print(id(a))\n",
    "del a[2]\n",
    "print(id(a))\n",
    "print(a)"
   ]
  },
  {
   "cell_type": "code",
   "execution_count": 8,
   "metadata": {},
   "outputs": [
    {
     "ename": "NameError",
     "evalue": "name 'a' is not defined",
     "output_type": "error",
     "traceback": [
      "\u001b[1;31m---------------------------------------------------------------------------\u001b[0m",
      "\u001b[1;31mNameError\u001b[0m                                 Traceback (most recent call last)",
      "\u001b[1;32m<ipython-input-8-0c68e93aec26>\u001b[0m in \u001b[0;36m<module>\u001b[1;34m()\u001b[0m\n\u001b[0;32m      1\u001b[0m \u001b[1;31m#del一个变量后不能再继续使用此变量\u001b[0m\u001b[1;33m\u001b[0m\u001b[1;33m\u001b[0m\u001b[0m\n\u001b[0;32m      2\u001b[0m \u001b[1;32mdel\u001b[0m \u001b[0ma\u001b[0m\u001b[1;33m\u001b[0m\u001b[0m\n\u001b[1;32m----> 3\u001b[1;33m \u001b[0mprint\u001b[0m\u001b[1;33m(\u001b[0m\u001b[0ma\u001b[0m\u001b[1;33m)\u001b[0m\u001b[1;33m\u001b[0m\u001b[0m\n\u001b[0m",
      "\u001b[1;31mNameError\u001b[0m: name 'a' is not defined"
     ]
    }
   ],
   "source": [
    "#del一个变量后不能再继续使用此变量\n",
    "del a\n",
    "print(a)"
   ]
  },
  {
   "cell_type": "code",
   "execution_count": null,
   "metadata": {},
   "outputs": [],
   "source": [
    "# 使用加号链接两个列表\n",
    "\n",
    "#list"
   ]
  }
 ],
 "metadata": {
  "kernelspec": {
   "display_name": "Python 3",
   "language": "python",
   "name": "python3"
  },
  "language_info": {
   "codemirror_mode": {
    "name": "ipython",
    "version": 3
   },
   "file_extension": ".py",
   "mimetype": "text/x-python",
   "name": "python",
   "nbconvert_exporter": "python",
   "pygments_lexer": "ipython3",
   "version": "3.6.4"
  }
 },
 "nbformat": 4,
 "nbformat_minor": 2
}
