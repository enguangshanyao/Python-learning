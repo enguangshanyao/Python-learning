{
 "cells": [
  {
   "cell_type": "markdown",
   "metadata": {},
   "source": [
    "# while\n",
    "# while-else\n"
   ]
  },
  {
   "cell_type": "markdown",
   "metadata": {},
   "source": [
    "# 函数\n",
    "- 代码的一种组织形式\n",
    "- 一个函数一般完成一项特定的功能\n",
    "- 函数使用\n",
    "    - 函数需要先定义\n",
    "    - 使用函数，俗称调用"
   ]
  },
  {
   "cell_type": "code",
   "execution_count": 1,
   "metadata": {},
   "outputs": [],
   "source": [
    "# 定义一个函数\n",
    "# 只是定义的话不会执行\n",
    "# 1,def关键字，后跟一个空格\n",
    "# 2，函数名，自己定义，遵循命名规则，约定俗成，大驼峰命名只给类用\n",
    "# 3，后面括号和冒号不能省，括号内可以有参数\n",
    "# 4，函数内所以代码缩进\n",
    "def func():\n",
    "    print(\"我是一个函数\")\n",
    "    print(\"我完成一定功能\")\n",
    "    print(\"我结束了\")"
   ]
  },
  {
   "cell_type": "code",
   "execution_count": 2,
   "metadata": {},
   "outputs": [
    {
     "name": "stdout",
     "output_type": "stream",
     "text": [
      "我是一个函数\n",
      "我完成一定功能\n",
      "我结束了\n"
     ]
    }
   ],
   "source": [
    "# 函数的调用\n",
    "# 直接函数名后面跟括号\n",
    "func()"
   ]
  },
  {
   "cell_type": "markdown",
   "metadata": {},
   "source": [
    "### 函数的参数和返回值\n",
    "- 参数\n",
    "- 返回值\n"
   ]
  },
  {
   "cell_type": "code",
   "execution_count": 4,
   "metadata": {},
   "outputs": [
    {
     "name": "stdout",
     "output_type": "stream",
     "text": [
      "ming yue，你肿么了\n",
      "ni bu li wo wo jiu zou lie\n"
     ]
    }
   ],
   "source": [
    "def hello(person):\n",
    "    print(\"{0}，你肿么了\".format(person))\n",
    "    print(\"ni bu li wo wo jiu zou lie\")\n",
    "p = \"ming yue\"\n",
    "hello(p)\n",
    "    "
   ]
  },
  {
   "cell_type": "code",
   "execution_count": 7,
   "metadata": {},
   "outputs": [
    {
     "name": "stdout",
     "output_type": "stream",
     "text": [
      "ming yue，你肿么了\n",
      "ni bu li wo wo jiu zou lie\n",
      "我已经跟ming yue打招呼了，ming yue不理我\n"
     ]
    }
   ],
   "source": [
    "def hello(person):\n",
    "    print(\"{0}，你肿么了\".format(person))\n",
    "    print(\"ni bu li wo wo jiu zou lie\")\n",
    "    return\"我已经跟{0}打招呼了，{1}不理我\".format(person,person)\n",
    "p = \"ming yue\"\n",
    "rst = hello(p)\n",
    "\n",
    "print(rst)"
   ]
  },
  {
   "cell_type": "code",
   "execution_count": null,
   "metadata": {},
   "outputs": [],
   "source": [
    "# 查找函数帮助文档\n",
    "# 1，用help函数\n",
    "help (print)"
   ]
  },
  {
   "cell_type": "code",
   "execution_count": 9,
   "metadata": {},
   "outputs": [
    {
     "name": "stdout",
     "output_type": "stream",
     "text": [
      "1 --------------\n",
      "2 4 --------------\n",
      "3 6 9 --------------\n",
      "4 8 12 16 --------------\n",
      "5 10 15 20 25 --------------\n",
      "6 12 18 24 30 36 --------------\n",
      "7 14 21 28 35 42 49 --------------\n",
      "8 16 24 32 40 48 56 64 --------------\n",
      "9 18 27 36 45 54 63 72 81 --------------\n"
     ]
    }
   ],
   "source": [
    "# 九九乘法表\n",
    "\n",
    "for row in range(1,10):\n",
    "    for col in range(1,row+1):\n",
    "        print( row * col , end = \" \")\n",
    "    print(\"--------------\")"
   ]
  },
  {
   "cell_type": "code",
   "execution_count": 10,
   "metadata": {},
   "outputs": [
    {
     "name": "stdout",
     "output_type": "stream",
     "text": [
      "1  \n",
      "2 4  \n",
      "3 6 9  \n",
      "4 8 12 16  \n",
      "5 10 15 20 25  \n",
      "6 12 18 24 30 36  \n",
      "7 14 21 28 35 42 49  \n",
      "8 16 24 32 40 48 56 64  \n",
      "9 18 27 36 45 54 63 72 81  \n"
     ]
    }
   ],
   "source": [
    "# 九九乘法表\n",
    "# 使用函数\n",
    "def printline(row):\n",
    "    for col in range(1,row+1):\n",
    "        print( row * col , end = \" \")\n",
    "    print(\" \")\n",
    "    \n",
    "for row in range(1,10):    \n",
    "    printline(row)"
   ]
  },
  {
   "cell_type": "code",
   "execution_count": null,
   "metadata": {},
   "outputs": [],
   "source": []
  },
  {
   "cell_type": "code",
   "execution_count": null,
   "metadata": {},
   "outputs": [],
   "source": []
  }
 ],
 "metadata": {
  "kernelspec": {
   "display_name": "Python 3",
   "language": "python",
   "name": "python3"
  },
  "language_info": {
   "codemirror_mode": {
    "name": "ipython",
    "version": 3
   },
   "file_extension": ".py",
   "mimetype": "text/x-python",
   "name": "python",
   "nbconvert_exporter": "python",
   "pygments_lexer": "ipython3",
   "version": "3.6.4"
  }
 },
 "nbformat": 4,
 "nbformat_minor": 2
}
