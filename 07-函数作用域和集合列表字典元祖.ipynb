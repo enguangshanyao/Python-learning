{
 "cells": [
  {
   "cell_type": "markdown",
   "metadata": {},
   "source": [
    "# 内置数据结构（变量类型）\n",
    "- list\n",
    "- set \n",
    "- dict\n",
    "- tuple\n",
    "\n",
    "## list(列表)\n",
    "- 一组有顺序的数据的组合"
   ]
  },
  {
   "cell_type": "code",
   "execution_count": 3,
   "metadata": {},
   "outputs": [
    {
     "name": "stdout",
     "output_type": "stream",
     "text": [
      "<class 'list'>\n",
      "[]\n",
      "<class 'list'>\n",
      "[100]\n",
      "<class 'list'>\n",
      "[2, 2, 3, 4, 1, 3, 6]\n",
      "<class 'list'>\n",
      "[]\n"
     ]
    }
   ],
   "source": [
    "# 1创建空列表\n",
    "l1 = []\n",
    "# type是内置函数，负责打印出变量的类型\n",
    "print(type(l1))\n",
    "print(l1)\n",
    "\n",
    "# 2 创建带值的列表\n",
    "l2 = [100]\n",
    "print(type(l2))\n",
    "print(l2)\n",
    "\n",
    "# 3 创建列表,带多个值\n",
    "l3 = [2,2,3,4,1,3,6]\n",
    "print(type(l3))\n",
    "print(l3)\n",
    "\n",
    "# 3 使用list\n",
    "l4 = list()\n",
    "print(type(l4))\n",
    "print(l4)"
   ]
  },
  {
   "cell_type": "markdown",
   "metadata": {},
   "source": [
    "## 列表常用操作\n",
    "- 访问\n",
    "    - 使用下标操作(索引)\n",
    "    - 列表的位置从0开始\n",
    "- 分片操作\n",
    "    - 对列表进行任意一段的截取\n",
    "    - l[ : ]\n",
    "    "
   ]
  },
  {
   "cell_type": "code",
   "execution_count": 7,
   "metadata": {},
   "outputs": [
    {
     "name": "stdout",
     "output_type": "stream",
     "text": [
      "1\n",
      "3\n",
      "[4, 1, 2]\n",
      "[3, 4, 1, 2, 4, 5, 6]\n",
      "[3, 4, 1, 2]\n",
      "[1, 2, 4, 5, 6]\n",
      "[3, 4, 1, 2, 4, 5, 6]\n",
      "[4, 1, 2, 4, 5]\n"
     ]
    }
   ],
   "source": [
    "# 下标访问列表\n",
    "l = [3,4,1,2,4,5,6]\n",
    "print(l[2])\n",
    "print(l[0])\n",
    "# 分片操作\n",
    "# 注意截取的范围，包含左边的下标值，不包含右边的下标值\n",
    "print(l[1:4])\n",
    "# 下标值可以为空，如果不写，左边下标值默认为0，右边下标值默认为最大数加1，即表示截取到最后一个数\n",
    "print(l[:])\n",
    "print(l[:4])\n",
    "print(l[2:])\n",
    "# 分片可以控制增长幅度，默认为1\n",
    "print(l)\n",
    "print(l[1:6:1])\n",
    "# 打印从1开始下标的数字，每次隔一个\n",
    "print(l[1:6:2])\n",
    "# 下标可以超出范围，超出后不再考虑多余下标内容\n",
    "print(l[2:10])\n",
    "#下标值，增长幅度可以为负数\n",
    "# 为负数，表明顺序是从右往左\n",
    "# 规定：数组最后一个数字的下标是-1\n"
   ]
  },
  {
   "cell_type": "code",
   "execution_count": 8,
   "metadata": {},
   "outputs": [
    {
     "name": "stdout",
     "output_type": "stream",
     "text": [
      "[3, 4, 1, 2, 4, 5, 6]\n",
      "[]\n",
      "[2, 4]\n",
      "[5, 4]\n"
     ]
    }
   ],
   "source": [
    "#下标值，增长幅度可以为负数\n",
    "# 为负数，表明顺序是从右往左\n",
    "# 规定：数组最后一个数字的下标是-1\n",
    "\n",
    "#分片之负数下标\n",
    "print(l)\n",
    "#下面显示的是为空，因为默认分片总是从左向右截取\n",
    "#即正常情况，分片左边的值一定小于右边的值\n",
    "print(l[-2:-4])\n",
    "print(l[-4:-2])\n",
    "#如果分片一定左边值比右边大，则步长参数需要使用负数\n",
    "#此案例为一个list直接正反颠倒提供了一种思路。思考。\n",
    "print(l[-2:-4:-1])"
   ]
  },
  {
   "cell_type": "markdown",
   "metadata": {},
   "source": [
    "## 分片操作是生成一个新的list\n",
    "- 内置函数id，负责显示一个变量或者数据的唯一确定编号"
   ]
  },
  {
   "cell_type": "code",
   "execution_count": 9,
   "metadata": {},
   "outputs": [
    {
     "name": "stdout",
     "output_type": "stream",
     "text": [
      "1591179840\n",
      "1591183040\n",
      "1591179840\n",
      "101\n",
      "100\n"
     ]
    }
   ],
   "source": [
    "# id函数举例\n",
    "a = 100\n",
    "b = 200\n",
    "print(id(a))\n",
    "print(id(b))\n",
    "\n",
    "c = a\n",
    "print(id(c))\n",
    "\n",
    "#如果a和c是一份数据，则更改a的值同样也会更改c的值\n",
    "#但是，显示结果并非如此，为什么？\n",
    "a = 101\n",
    "print(a)\n",
    "print(c)\n"
   ]
  },
  {
   "cell_type": "code",
   "execution_count": 13,
   "metadata": {},
   "outputs": [
    {
     "name": "stdout",
     "output_type": "stream",
     "text": [
      "2486300312072\n",
      "2486300294856\n",
      "2486300294856\n",
      "[3, 100, 5, 55, 56, 5, 66, 45, 67, 7, 7]\n",
      "[3, 3, 5, 55, 56, 5, 66, 45, 67, 7, 7]\n",
      "[3, 100, 5, 55, 56, 5, 66, 45, 67, 7, 7]\n",
      "[3, 100, 5, 55, 56, 5, 66, 45, 67, 7, 7]\n"
     ]
    }
   ],
   "source": [
    "# 通过id可以直接判断分片是从新生成了一份数据还是使用的同一份数据\n",
    "l = [3,3,5,55,56,5,66,45,67,7,7,]\n",
    "ll = l[:]\n",
    "lll = ll\n",
    "# 如果两个id值一样，则表明分片产生的列表是使用的同意地址同一份数据\n",
    "#否则，则表明分片是从新生成了一份数据，即一个新的列表，然后把数据拷贝到新列表中\n",
    "print(id(l))\n",
    "print(id(ll))\n",
    "print(id(lll))\n",
    "\n",
    "# 通过id知道，ll和lll是同一份数据，验证代码如下\n",
    "l[1] = 100\n",
    "print(l)\n",
    "print(ll)\n",
    "\n",
    "ll[1] = 100\n",
    "print(ll)\n",
    "print(lll)"
   ]
  },
  {
   "cell_type": "code",
   "execution_count": null,
   "metadata": {},
   "outputs": [],
   "source": []
  },
  {
   "cell_type": "code",
   "execution_count": null,
   "metadata": {},
   "outputs": [],
   "source": []
  }
 ],
 "metadata": {
  "kernelspec": {
   "display_name": "Python 3",
   "language": "python",
   "name": "python3"
  },
  "language_info": {
   "codemirror_mode": {
    "name": "ipython",
    "version": 3
   },
   "file_extension": ".py",
   "mimetype": "text/x-python",
   "name": "python",
   "nbconvert_exporter": "python",
   "pygments_lexer": "ipython3",
   "version": "3.6.4"
  }
 },
 "nbformat": 4,
 "nbformat_minor": 2
}
